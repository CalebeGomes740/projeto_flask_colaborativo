{
 "cells": [
  {
   "cell_type": "code",
   "execution_count": 5,
   "id": "7e8f016c",
   "metadata": {},
   "outputs": [],
   "source": [
    "import pandas as pd\n",
    "import requests\n",
    "import time\n",
    "import os"
   ]
  },
  {
   "cell_type": "code",
   "execution_count": 7,
   "id": "9c53bc0f",
   "metadata": {},
   "outputs": [
    {
     "name": "stdout",
     "output_type": "stream",
     "text": [
      "Dataset salvo em: meu_dataset_completo.csv\n"
     ]
    }
   ],
   "source": [
    "# Caminhos dos arquivos\n",
    "BASICS_PATH = 'title.basics.tsv'\n",
    "RATINGS_PATH = 'title.ratings.tsv'\n",
    "OUTPUT_PATH = 'meu_dataset_completo.csv'\n",
    "API_KEY = '37f9c1da'\n",
    "\n",
    "# 1. Carregar os dados IMDb\n",
    "basics = pd.read_csv(BASICS_PATH, sep='\\t', low_memory=False)\n",
    "ratings = pd.read_csv(RATINGS_PATH, sep='\\t')\n",
    "\n",
    "# 2. Filtrar apenas filmes e colunas úteis\n",
    "movies = basics[basics['titleType'] == 'movie']\n",
    "movies = movies[['tconst', 'primaryTitle', 'originalTitle', 'startYear', 'genres']]\n",
    "\n",
    "# 3. Unir com os ratings\n",
    "movies = movies.merge(ratings, on='tconst')\n",
    "\n",
    "# 4. Enriquecer com dados da OMDb API\n",
    "url_base = \"http://www.omdbapi.com/?apikey={}&i={}\"\n",
    "dados_completos = []\n",
    "\n",
    "for i, row in movies.head(100).iterrows():\n",
    "    imdb_id = row['tconst']\n",
    "    response = requests.get(url_base.format(API_KEY, imdb_id))\n",
    "    if response.status_code == 200:\n",
    "        data = response.json()\n",
    "        if data['Response'] == 'True':\n",
    "            dados_completos.append({\n",
    "                'imdb_id': imdb_id,\n",
    "                'title': data.get('Title'),\n",
    "                'year': data.get('Year'),\n",
    "                'genre': data.get('Genre'),\n",
    "                'rating': data.get('imdbRating'),\n",
    "                'plot': data.get('Plot'),\n",
    "                'poster': data.get('Poster')\n",
    "            })\n",
    "    time.sleep(0.3)  # Para evitar bloqueios\n",
    "\n",
    "# 5. Criar DataFrame final\n",
    "final_df = pd.DataFrame(dados_completos)\n",
    "final_df.to_csv(OUTPUT_PATH, index=False)\n",
    "print(\"Dataset salvo em:\", OUTPUT_PATH)\n"
   ]
  }
 ],
 "metadata": {
  "kernelspec": {
   "display_name": ".venv",
   "language": "python",
   "name": "python3"
  },
  "language_info": {
   "codemirror_mode": {
    "name": "ipython",
    "version": 3
   },
   "file_extension": ".py",
   "mimetype": "text/x-python",
   "name": "python",
   "nbconvert_exporter": "python",
   "pygments_lexer": "ipython3",
   "version": "3.12.10"
  }
 },
 "nbformat": 4,
 "nbformat_minor": 5
}
